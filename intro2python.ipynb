{
  "nbformat": 4,
  "nbformat_minor": 0,
  "metadata": {
    "colab": {
      "name": "intro2python.ipynb",
      "provenance": [],
      "toc_visible": true,
      "mount_file_id": "1mcTbJzXx38SiFwQcscETSnyY_EWBxpAJ",
      "authorship_tag": "ABX9TyMBj+I0KN+PusITdCuU6BnJ",
      "include_colab_link": true
    },
    "kernelspec": {
      "name": "python3",
      "display_name": "Python 3"
    },
    "language_info": {
      "name": "python"
    }
  },
  "cells": [
    {
      "cell_type": "markdown",
      "metadata": {
        "id": "view-in-github",
        "colab_type": "text"
      },
      "source": [
        "<a href=\"https://colab.research.google.com/github/henrikalbihn/henrikalbihn/blob/main/intro2python.ipynb\" target=\"_parent\"><img src=\"https://colab.research.google.com/assets/colab-badge.svg\" alt=\"Open In Colab\"/></a>"
      ]
    },
    {
      "cell_type": "markdown",
      "source": [
        "#Crash Course in Python 🐍"
      ],
      "metadata": {
        "id": "L4_itW3YDTiw"
      }
    },
    {
      "cell_type": "markdown",
      "source": [
        "### *Welcome* to Google Colab! 🎉"
      ],
      "metadata": {
        "id": "kvR4T0F0Po_p"
      }
    },
    {
      "cell_type": "markdown",
      "source": [
        "Colab (short for Colaboratory) is a Python 3 environment run on GCE (Google Compute Engine) that supports Jupyter notebooks (.ipynb files) and is stored in Google Drive.\n",
        "\n",
        "> Why Colab over another python environment?\n",
        "\n",
        "I like Colab because it requires basically no setup and Google makes it super easy to share code using Google Drive. That being said, you should still install [Python](https://www.python.org/downloads/) and [Anaconda](https://www.anaconda.com/products/individual) on your local machine.\n",
        "\n",
        "> Why Jupyter notebooks over .py files?\n",
        "\n",
        "I like using Jupyter notebooks because it's easy to teach other people what your code does using ***markdown*** and you can embed images, code cells, ***LaTeX***, and more. That being said, .py files have their use cases (like for automation) and we use both here at Westcliff. Colab also supports downloading your notebooks as .py files. So you can always start with a notebook and convert to a .py.\n",
        "\n",
        "> See links for more info on [Google Colab](https://research.google.com/colaboratory/faq.html) and [project Jupyter](https://jupyter.org/).\n",
        "\n"
      ],
      "metadata": {
        "id": "0tS_kHfvwuOH"
      }
    },
    {
      "cell_type": "markdown",
      "source": [
        "**The below modules are to give you some basic understanding of Python functionality whether you're a complete beginner or you have some experience with programming in another language (like [R](https://ftp.osuosl.org/pub/cran/)).**"
      ],
      "metadata": {
        "id": "BXl81M1gfg9a"
      }
    },
    {
      "cell_type": "markdown",
      "source": [
        "## Hello, World! 👋 🌎"
      ],
      "metadata": {
        "id": "aYj_5gkPwxhN"
      }
    },
    {
      "cell_type": "markdown",
      "source": [
        "As with any intro to Python, we will start by calling the most basic function you can write: `print()`.\n",
        "\n",
        "If it's not already obvious, `print()` prints a message to the console. We will begin with the tradition used by computer scientists since [1974](https://en.wikipedia.org/wiki/%22Hello,_World!%22_program)!\n",
        "\n",
        "> **\"Hello, world!\"**\n",
        "\n",
        "To run the code cell below, click the play button on the left side of the code cell or click inside the cell and press (CMD/CTRL + ENTER).\n",
        "\n",
        "In a Jupyter notebook, instead of printing the output to the console, it prints just below the code cell."
      ],
      "metadata": {
        "id": "7eofJn3qe-6G"
      }
    },
    {
      "cell_type": "code",
      "source": [
        "# call print() function and pass a string \"Hello, world!\" as the argument.\n",
        "print(\"Hello, world!\")"
      ],
      "metadata": {
        "id": "-Y8p0AmYivWC",
        "colab": {
          "base_uri": "https://localhost:8080/"
        },
        "outputId": "6e525ae5-fa69-446d-dcbb-653cf26c1959"
      },
      "execution_count": null,
      "outputs": [
        {
          "output_type": "stream",
          "name": "stdout",
          "text": [
            "Hello, world!\n"
          ]
        }
      ]
    },
    {
      "cell_type": "markdown",
      "source": [
        "The code cell begins with a ***comment*** (the line starting with `#`). Comments do not run, they are used to explain what your code does. \n",
        "> ***Note on commenting:***\n",
        "using readable and easily understandable comments whenever possible is good practice. In the event of someone else using your code, this is the only way for them to make sense of your operations. The same goes for looking at your own code months or years later so please ***write good comments***!"
      ],
      "metadata": {
        "id": "z2mb90pFk7WS"
      }
    },
    {
      "cell_type": "markdown",
      "source": [
        "### Variable Assignment\n",
        "Notice that the function prints characters *within* the `string` in double quotes `\" \"`. You can also pass a ***variable*** to the `print()` function. Here we will create a variable called `message` and assign it the `string` value `\"Hello, world!\"`. This is called ***variable assignment***. This single `=` is only used for assigning variables, not for checking equality between two values (in that case use `==`)."
      ],
      "metadata": {
        "id": "x1lCW0dsc3gz"
      }
    },
    {
      "cell_type": "code",
      "source": [
        "# single and double quotes are interchangeable,\n",
        "# just make sure to use the same on both sides\n",
        "message = 'Hello, world!'\n",
        "print(message)"
      ],
      "metadata": {
        "id": "_Jwdy3tflK6b",
        "colab": {
          "base_uri": "https://localhost:8080/"
        },
        "outputId": "e0a3b971-ae21-4a4d-db07-654c4d4ebaa5"
      },
      "execution_count": null,
      "outputs": [
        {
          "output_type": "stream",
          "name": "stdout",
          "text": [
            "Hello, world!\n"
          ]
        }
      ]
    },
    {
      "cell_type": "markdown",
      "source": [
        "Notice that the output is the ***same***, even though the code in the two cells are ***different***!\n",
        "\n",
        "> In Python, there are many different ways to code the same thing!"
      ],
      "metadata": {
        "id": "zTF0B1eHl73b"
      }
    },
    {
      "cell_type": "markdown",
      "source": [
        "## Data Types/Structures"
      ],
      "metadata": {
        "id": "NaQMLPg4pJZy"
      }
    },
    {
      "cell_type": "markdown",
      "source": [
        "Python supports many data types, we will cover just the basics. Run the cell below to see what data types are supported:"
      ],
      "metadata": {
        "id": "zl1YFTuwpMQW"
      }
    },
    {
      "cell_type": "code",
      "source": [
        "# run this cell to see the different data types in Python\n",
        "import pandas as pd # more on this later\n",
        "pd.read_csv('/content/drive/MyDrive/Colab Data/pythonDataTypes.csv')"
      ],
      "metadata": {
        "id": "dZQ1M4QQ-Rfx",
        "colab": {
          "base_uri": "https://localhost:8080/",
          "height": 300
        },
        "outputId": "f3b614c8-8f23-44fb-d5e4-7172d2665e8f"
      },
      "execution_count": null,
      "outputs": [
        {
          "output_type": "execute_result",
          "data": {
            "text/html": [
              "\n",
              "  <div id=\"df-b98c0051-ff58-4f08-8d8c-e98dfe38bd25\">\n",
              "    <div class=\"colab-df-container\">\n",
              "      <div>\n",
              "<style scoped>\n",
              "    .dataframe tbody tr th:only-of-type {\n",
              "        vertical-align: middle;\n",
              "    }\n",
              "\n",
              "    .dataframe tbody tr th {\n",
              "        vertical-align: top;\n",
              "    }\n",
              "\n",
              "    .dataframe thead th {\n",
              "        text-align: right;\n",
              "    }\n",
              "</style>\n",
              "<table border=\"1\" class=\"dataframe\">\n",
              "  <thead>\n",
              "    <tr style=\"text-align: right;\">\n",
              "      <th></th>\n",
              "      <th>Name</th>\n",
              "      <th>Type</th>\n",
              "      <th>Description</th>\n",
              "      <th>Example</th>\n",
              "    </tr>\n",
              "  </thead>\n",
              "  <tbody>\n",
              "    <tr>\n",
              "      <th>0</th>\n",
              "      <td>Integers</td>\n",
              "      <td>int</td>\n",
              "      <td>Whole numbers</td>\n",
              "      <td>3  300  200</td>\n",
              "    </tr>\n",
              "    <tr>\n",
              "      <th>1</th>\n",
              "      <td>Floating point</td>\n",
              "      <td>float</td>\n",
              "      <td>Decimal point number</td>\n",
              "      <td>2.3  4.6  100.0</td>\n",
              "    </tr>\n",
              "    <tr>\n",
              "      <th>2</th>\n",
              "      <td>Strings</td>\n",
              "      <td>str</td>\n",
              "      <td>Ordered sequence of characters</td>\n",
              "      <td>\"hello\"  'Sammy'  \"2000\"</td>\n",
              "    </tr>\n",
              "    <tr>\n",
              "      <th>3</th>\n",
              "      <td>Lists</td>\n",
              "      <td>list</td>\n",
              "      <td>Ordered sequence of objects</td>\n",
              "      <td>[10, \"hello\", 200.3]</td>\n",
              "    </tr>\n",
              "    <tr>\n",
              "      <th>4</th>\n",
              "      <td>Dictionaries</td>\n",
              "      <td>dict</td>\n",
              "      <td>Unordered Key:Value pairs</td>\n",
              "      <td>{\"mykey\" : \"value\",  \"name\" : \"Frankie\"}</td>\n",
              "    </tr>\n",
              "    <tr>\n",
              "      <th>5</th>\n",
              "      <td>Tuples</td>\n",
              "      <td>tup</td>\n",
              "      <td>Ordered immutable sequence of objects</td>\n",
              "      <td>(10, \"hello\", 200.3)</td>\n",
              "    </tr>\n",
              "    <tr>\n",
              "      <th>6</th>\n",
              "      <td>Sets</td>\n",
              "      <td>set</td>\n",
              "      <td>Unordered collection of unique objects</td>\n",
              "      <td>{\"a\", \"b\"}</td>\n",
              "    </tr>\n",
              "    <tr>\n",
              "      <th>7</th>\n",
              "      <td>Booleans</td>\n",
              "      <td>bool</td>\n",
              "      <td>Logical value</td>\n",
              "      <td>True  False</td>\n",
              "    </tr>\n",
              "  </tbody>\n",
              "</table>\n",
              "</div>\n",
              "      <button class=\"colab-df-convert\" onclick=\"convertToInteractive('df-b98c0051-ff58-4f08-8d8c-e98dfe38bd25')\"\n",
              "              title=\"Convert this dataframe to an interactive table.\"\n",
              "              style=\"display:none;\">\n",
              "        \n",
              "  <svg xmlns=\"http://www.w3.org/2000/svg\" height=\"24px\"viewBox=\"0 0 24 24\"\n",
              "       width=\"24px\">\n",
              "    <path d=\"M0 0h24v24H0V0z\" fill=\"none\"/>\n",
              "    <path d=\"M18.56 5.44l.94 2.06.94-2.06 2.06-.94-2.06-.94-.94-2.06-.94 2.06-2.06.94zm-11 1L8.5 8.5l.94-2.06 2.06-.94-2.06-.94L8.5 2.5l-.94 2.06-2.06.94zm10 10l.94 2.06.94-2.06 2.06-.94-2.06-.94-.94-2.06-.94 2.06-2.06.94z\"/><path d=\"M17.41 7.96l-1.37-1.37c-.4-.4-.92-.59-1.43-.59-.52 0-1.04.2-1.43.59L10.3 9.45l-7.72 7.72c-.78.78-.78 2.05 0 2.83L4 21.41c.39.39.9.59 1.41.59.51 0 1.02-.2 1.41-.59l7.78-7.78 2.81-2.81c.8-.78.8-2.07 0-2.86zM5.41 20L4 18.59l7.72-7.72 1.47 1.35L5.41 20z\"/>\n",
              "  </svg>\n",
              "      </button>\n",
              "      \n",
              "  <style>\n",
              "    .colab-df-container {\n",
              "      display:flex;\n",
              "      flex-wrap:wrap;\n",
              "      gap: 12px;\n",
              "    }\n",
              "\n",
              "    .colab-df-convert {\n",
              "      background-color: #E8F0FE;\n",
              "      border: none;\n",
              "      border-radius: 50%;\n",
              "      cursor: pointer;\n",
              "      display: none;\n",
              "      fill: #1967D2;\n",
              "      height: 32px;\n",
              "      padding: 0 0 0 0;\n",
              "      width: 32px;\n",
              "    }\n",
              "\n",
              "    .colab-df-convert:hover {\n",
              "      background-color: #E2EBFA;\n",
              "      box-shadow: 0px 1px 2px rgba(60, 64, 67, 0.3), 0px 1px 3px 1px rgba(60, 64, 67, 0.15);\n",
              "      fill: #174EA6;\n",
              "    }\n",
              "\n",
              "    [theme=dark] .colab-df-convert {\n",
              "      background-color: #3B4455;\n",
              "      fill: #D2E3FC;\n",
              "    }\n",
              "\n",
              "    [theme=dark] .colab-df-convert:hover {\n",
              "      background-color: #434B5C;\n",
              "      box-shadow: 0px 1px 3px 1px rgba(0, 0, 0, 0.15);\n",
              "      filter: drop-shadow(0px 1px 2px rgba(0, 0, 0, 0.3));\n",
              "      fill: #FFFFFF;\n",
              "    }\n",
              "  </style>\n",
              "\n",
              "      <script>\n",
              "        const buttonEl =\n",
              "          document.querySelector('#df-b98c0051-ff58-4f08-8d8c-e98dfe38bd25 button.colab-df-convert');\n",
              "        buttonEl.style.display =\n",
              "          google.colab.kernel.accessAllowed ? 'block' : 'none';\n",
              "\n",
              "        async function convertToInteractive(key) {\n",
              "          const element = document.querySelector('#df-b98c0051-ff58-4f08-8d8c-e98dfe38bd25');\n",
              "          const dataTable =\n",
              "            await google.colab.kernel.invokeFunction('convertToInteractive',\n",
              "                                                     [key], {});\n",
              "          if (!dataTable) return;\n",
              "\n",
              "          const docLinkHtml = 'Like what you see? Visit the ' +\n",
              "            '<a target=\"_blank\" href=https://colab.research.google.com/notebooks/data_table.ipynb>data table notebook</a>'\n",
              "            + ' to learn more about interactive tables.';\n",
              "          element.innerHTML = '';\n",
              "          dataTable['output_type'] = 'display_data';\n",
              "          await google.colab.output.renderOutput(dataTable, element);\n",
              "          const docLink = document.createElement('div');\n",
              "          docLink.innerHTML = docLinkHtml;\n",
              "          element.appendChild(docLink);\n",
              "        }\n",
              "      </script>\n",
              "    </div>\n",
              "  </div>\n",
              "  "
            ],
            "text/plain": [
              "             Name  ...                                   Example\n",
              "0        Integers  ...                               3  300  200\n",
              "1  Floating point  ...                           2.3  4.6  100.0\n",
              "2         Strings  ...                  \"hello\"  'Sammy'  \"2000\"\n",
              "3           Lists  ...                      [10, \"hello\", 200.3]\n",
              "4    Dictionaries  ...  {\"mykey\" : \"value\",  \"name\" : \"Frankie\"}\n",
              "5          Tuples  ...                      (10, \"hello\", 200.3)\n",
              "6            Sets  ...                                {\"a\", \"b\"}\n",
              "7        Booleans  ...                               True  False\n",
              "\n",
              "[8 rows x 4 columns]"
            ]
          },
          "metadata": {},
          "execution_count": 3
        }
      ]
    },
    {
      "cell_type": "markdown",
      "source": [
        "Notice that the first row of data has an index of zero instead of one (*R's index begins with one for example*).\n",
        "\n",
        "Python is what's known as a 'zero-index language' meaning all indexes begin with zero."
      ],
      "metadata": {
        "id": "r1uu-U3Fb_UQ"
      }
    },
    {
      "cell_type": "markdown",
      "source": [
        "> The `type` function\n",
        "\n",
        "You can use the `type` function to check the data type of any object. In the code cell below, click a line you would like to run then press CMD/CTRL + / to comment or un-comment a line. You can also highlight multiple lines."
      ],
      "metadata": {
        "id": "WJTjoo0Eq4rG"
      }
    },
    {
      "cell_type": "code",
      "source": [
        "# type(1) # int (integer)\n",
        "# type(2.3) # float\n",
        "# type(\"hello\") # str (string)\n",
        "# l = [1, 2, 3] # assign list\n",
        "# type(l) # list\n",
        "# d = {\"key\":\"value\",\"name\":\"Henrik\"} # assign dictionary\n",
        "# type(d) # dictionary (dict)\n",
        "# t = (10, \"hello\", 200.3) # assign tuple\n",
        "# type(t) # tuple\n",
        "# s = {\"a\",\"b\"} # assign set\n",
        "# type(s) # set\n",
        "# type(True) # bool (boolean)\n",
        "# type(message) # remember our message variable? Remember the type?\n",
        "# # You guessed it, it's a str (string)."
      ],
      "metadata": {
        "id": "7l4mD7-trktF",
        "colab": {
          "base_uri": "https://localhost:8080/"
        },
        "outputId": "66bdddc9-05f2-4ee0-89a3-e4aa3b09b076"
      },
      "execution_count": null,
      "outputs": [
        {
          "output_type": "execute_result",
          "data": {
            "text/plain": [
              "float"
            ]
          },
          "metadata": {},
          "execution_count": 5
        }
      ]
    },
    {
      "cell_type": "markdown",
      "source": [
        "Notice the *case* of the logical operator `True`. It starts with a capital T, but the rest of the letters are lower-case.\n",
        "\n",
        "> Python is a ***case-sensitive*** language.\n",
        "\n",
        "`True` and `TRUE`/`true`/`\"True\"` are not the same. Mix them up and you'll throw an error. `True` and 1 ***are*** treated the same however (and thus `False` and 0 are also treated the same). More on this in the logical operators section below."
      ],
      "metadata": {
        "id": "BXkYBT9d3rUw"
      }
    },
    {
      "cell_type": "markdown",
      "source": [
        "## Logical Operators and Loops 🔃"
      ],
      "metadata": {
        "id": "0iFRxEWGwRNA"
      }
    },
    {
      "cell_type": "markdown",
      "source": [
        "### Logical Operators"
      ],
      "metadata": {
        "id": "Bdlb3WK7KVe8"
      }
    },
    {
      "cell_type": "markdown",
      "source": [
        "Python supports logical operators. These operations return a boolean (`True` or `False`).\n",
        "\n",
        "1. `>` = `True` if ***LHS*** is *greater than* ***RHS***\n",
        "2. `<` = `True` if ***LHS*** is *less than* ***RHS***\n",
        "3. `>=` = `True` if ***LHS*** is *greater than or equal to* ***RHS***\n",
        "4. `<=` = `True` if ***LHS*** is *less than or equal to* ***RHS***\n",
        "5. `==` = `True` if ***LHS*** is *equivalent* to ***RHS***\n",
        "6. `!=` = `True` if ***LHS*** is *NOT equivalent* to ***RHS***\n",
        "7. `and` = `True` if both sides are `True`.\n",
        "8. `or` = `True` if one side (***LHS*** or ***RHS***) is true.\n",
        "9. `not` = `True` if `False` (flips value).\n",
        "\n",
        "Let's check if 1 and `True` are the same using the `==` (equivalency) operator and our first `if`, `then` statement."
      ],
      "metadata": {
        "id": "Qsa6MiXu_vtz"
      }
    },
    {
      "cell_type": "code",
      "source": [
        "# Check if 1 and True are the same\n",
        "t = 1\n",
        "if t == True: # remember == is for checking equivalency\n",
        "  print(\"They're the same!\")\n",
        "else:\n",
        "  print(\"Hmm, not quite.\")"
      ],
      "metadata": {
        "id": "S_4-jeW-3_NA",
        "colab": {
          "base_uri": "https://localhost:8080/"
        },
        "outputId": "4c9675d9-be2b-4fc7-f3ac-b5ba260a0494"
      },
      "execution_count": null,
      "outputs": [
        {
          "output_type": "stream",
          "name": "stdout",
          "text": [
            "They're the same!\n"
          ]
        }
      ]
    },
    {
      "cell_type": "markdown",
      "source": [
        "### `if`, `else` Statements"
      ],
      "metadata": {
        "id": "FpLbQnyOKa9d"
      }
    },
    {
      "cell_type": "markdown",
      "source": [
        "Notice the syntax and indentations for the `if`, `else` statement. We often use pseudocode to explain the logic behind our code.\n",
        "\n",
        "> ***Pseudocode*** is a fancy way of saying \n",
        "a plain language description of what we want our code to do. Often times in developing, we can use pseudocode to hash out our ideas before we actually turn them into executable code.\n",
        "\n",
        "The syntax for an `if`, `elif`, `else` statement in pseudocode is like so:\n",
        "\n",
        "```\n",
        "if logical condition is True:\n",
        "  do something\n",
        "elif different condition is True:\n",
        "  do something different\n",
        "else:\n",
        "  do something else\n",
        "```"
      ],
      "metadata": {
        "id": "mFgyAfNwB7XO"
      }
    },
    {
      "cell_type": "markdown",
      "source": [
        "The `if` statement is the first logical condition evaluated. If it evaluates as `True`, then it executes the indented statement below it (`do something`). If it evaluates as `False`, then the loop moves on to the next `elif` condition. This is short-hand for *else-if* and you can have as many `elif` statements as you like. `elif` works just like the `if` condition.\n",
        "\n",
        "> If the `if` statement and all subsequent `elif` statements evaluate as `False`, then the `else` statement is executed and we exit and move on."
      ],
      "metadata": {
        "id": "9X_QgQWNDDHE"
      }
    },
    {
      "cell_type": "markdown",
      "source": [
        "Integers and floats can be evaluated as `True` / `False` as well. Numbers (positive or negative, `int` or `float`) are treated as `True` and zero is treated as `False`."
      ],
      "metadata": {
        "id": "QOfn86Qxwa6-"
      }
    },
    {
      "cell_type": "code",
      "source": [
        "# try changing the value of c so that the output prints the else statement.\n",
        "a = 10\n",
        "b = -12\n",
        "c = 1.1\n",
        "\n",
        "if a and b and c:\n",
        "\tprint(\"All the numbers have boolean value as True\")\n",
        "else:\n",
        "\tprint(\"At least one number has boolean value as False\")"
      ],
      "metadata": {
        "id": "kbjMAQKgwbtC"
      },
      "execution_count": null,
      "outputs": []
    },
    {
      "cell_type": "markdown",
      "source": [
        "Let's put together some logical operators and an `if`, `elif`, `else` statement."
      ],
      "metadata": {
        "id": "UGSFYDHYdD5F"
      }
    },
    {
      "cell_type": "code",
      "source": [
        "# try changing the value b so you can see how the output changes\n",
        "a = 33\n",
        "b = 10\n",
        "\n",
        "if b > a:\n",
        "  print(\"b is greater than a\")\n",
        "elif a == b:\n",
        "  print(\"a and b are equal\")\n",
        "else:\n",
        "  print(\"b is less than a\")"
      ],
      "metadata": {
        "id": "J0KKzGjwdca0"
      },
      "execution_count": null,
      "outputs": []
    },
    {
      "cell_type": "markdown",
      "source": [
        " > Also notice the ***indentation***.\n",
        "\n",
        "**Whitespace is very important in python.** If you tried running the same code with no indents, you will throw an error. Try it out:"
      ],
      "metadata": {
        "id": "8HCxPSzmdtGd"
      }
    },
    {
      "cell_type": "code",
      "source": [
        "# this code will throw an error\n",
        "a = 33\n",
        "b = 10\n",
        "if b > a:\n",
        "print(\"b is greater than a\")\n",
        "elif a == b:\n",
        "print(\"a and b are equal\")\n",
        "else:\n",
        "print(\"b is less than a\")"
      ],
      "metadata": {
        "id": "90Er7I3fd80n"
      },
      "execution_count": null,
      "outputs": []
    },
    {
      "cell_type": "markdown",
      "source": [
        "### `for` Loops"
      ],
      "metadata": {
        "id": "KKSWEjq9KMHx"
      }
    },
    {
      "cell_type": "markdown",
      "source": [
        "`for` loops are very useful."
      ],
      "metadata": {
        "id": "dEetxe6mKts2"
      }
    },
    {
      "cell_type": "markdown",
      "source": [
        "### `while` Loops"
      ],
      "metadata": {
        "id": "AfIq1Gb0OZKS"
      }
    },
    {
      "cell_type": "markdown",
      "source": [
        "`while` loops are also very useful."
      ],
      "metadata": {
        "id": "qpluibMTZ1pp"
      }
    },
    {
      "cell_type": "markdown",
      "source": [
        "## Dependencies: Modules/Packages/Libraries 📚"
      ],
      "metadata": {
        "id": "aw9ZfxcUSgUh"
      }
    },
    {
      "cell_type": "markdown",
      "source": [
        "Python comes with built-in modules (also called \"packages\" or \"libraries\", I will use the terms interchangeably).\n",
        "\n",
        "They are essentially stores of pre-written functions, data, and more that you can access and use in your code. This allows you to build off of very complicated implementations instead of having to build them from scratch.\n",
        "\n",
        "(P.S. The one we will focus on for data analysis is called `pandas` 🐼.)\n",
        "\n",
        "To use a package, start with:\n",
        "\n",
        ">`import <packagename>`\n",
        "\n",
        "`import` is used to make functions, data, classes, and more available in the current python environment.\n",
        "\n",
        "*If you've used R you may have seen `library('tidyverse')` to call the module `tidyverse`.\n",
        "\n",
        "The package **must** first be installed in your python environment. You cannot use a package without installing and importing it first.\n",
        "\n",
        "To install a package, run:\n",
        "\n",
        ">`%pip install <packagename>`\n",
        "\n",
        "*In R, you would run `install.packages('tidyverse')` for example.\n",
        "\n",
        "In Google Colab, the package is only installed in the current notebook so to use a package like `seaborn` which is not installed by default, you must install using `%pip install seaborn` every time you open a new notebook. Try it out:"
      ],
      "metadata": {
        "id": "ixfHVBd8Enjy"
      }
    },
    {
      "cell_type": "code",
      "source": [
        "# In a local python environment, you would run this in your console,\n",
        "# but here in Colab, you can run %pip in the code cells.\n",
        "%pip install seaborn"
      ],
      "metadata": {
        "id": "G9-AWi28iPfH"
      },
      "execution_count": null,
      "outputs": []
    },
    {
      "cell_type": "markdown",
      "source": [
        "In Google Colab, many packages are already installed.\n",
        "\n",
        "Here's a short script to see what packages are currently installed with version number:"
      ],
      "metadata": {
        "id": "hAYnGpJHQGE0"
      }
    },
    {
      "cell_type": "code",
      "source": [
        "import pkg_resources\n",
        "import pprint as pp # This one is called 'pretty print'\n",
        "installed_packages = pkg_resources.working_set\n",
        "installed_packages_list = sorted([\"%s==%s\" % (i.key, i.version)\n",
        "   for i in installed_packages])\n",
        "pp.pprint(installed_packages_list) # Print the list with each item on a new line"
      ],
      "metadata": {
        "id": "lAtt056SQI7d"
      },
      "execution_count": null,
      "outputs": []
    },
    {
      "cell_type": "markdown",
      "source": [
        "> Aliases\n",
        "\n",
        "In the python community, there are naming conventions for package aliases (ex. `import pandas as pd` or `import numpy as np`). This is so you can reference the package (or a function from within it) with less typing.\n",
        "\n",
        "So to read in a .csv you can use `pd.read_csv('example.csv')` instead of `pandas.read_csv('example.csv')`.\n",
        "\n",
        "With `pandas` you only save 4 letters with the alias, but some package names are very long.\n",
        "\n",
        "You may also encounter `from` which is for referencing just one class from a module (this uses less memory than importing the entire module). e.g. `from datetime import datetime`.\n",
        "\n",
        "Below I have imported several useful packages with their (conventional) aliases:\n",
        "\n"
      ],
      "metadata": {
        "id": "v5G5i0gpl4Ik"
      }
    },
    {
      "cell_type": "code",
      "execution_count": null,
      "metadata": {
        "id": "fVvhTOu2C1w_"
      },
      "outputs": [],
      "source": [
        "from datetime import datetime # datetime class within datetime module\n",
        "import os # good for portability (operating system)\n",
        "import pandas as pd # more on this below\n",
        "import numpy as np # stands for numerical python \n",
        "import matplotlib.pyplot as plt # plotting library for visualizations\n",
        "import seaborn as sns # another good plotting library\n",
        "import sklearn # scikit-learn is for machine learning/statistical analysis"
      ]
    },
    {
      "cell_type": "markdown",
      "source": [
        "## Functions $f(x)$"
      ],
      "metadata": {
        "id": "ecJTleeLw2nj"
      }
    },
    {
      "cell_type": "markdown",
      "source": [
        "Functions are ..."
      ],
      "metadata": {
        "id": "XELf3p7DEnzz"
      }
    },
    {
      "cell_type": "code",
      "source": [
        "# yo dawg\n",
        "def wassup(name):\n",
        "  print(f'Wassup, {name}?!')\n",
        "\n",
        "wassup(\"Trent\")"
      ],
      "metadata": {
        "id": "LwLGn8_0E0pH",
        "colab": {
          "base_uri": "https://localhost:8080/"
        },
        "outputId": "d8426eaa-ae88-4008-966c-34df745afe26"
      },
      "execution_count": null,
      "outputs": [
        {
          "output_type": "stream",
          "name": "stdout",
          "text": [
            "Wassup, Trent?!\n"
          ]
        }
      ]
    },
    {
      "cell_type": "markdown",
      "source": [
        "# Data Analysis with `pandas` 🐼"
      ],
      "metadata": {
        "id": "asPMEDoreOvs"
      }
    },
    {
      "cell_type": "markdown",
      "source": [
        "\n",
        "### Reading Data"
      ],
      "metadata": {
        "id": "4MQIZlSBaF9m"
      }
    },
    {
      "cell_type": "markdown",
      "source": [
        "Okay, all of that was pretty longwinded, so let's finally read in our first bit of data. First we assign a string to the variable `file` then we pass it to the first argument of `pd.read_csv` and assign the output to a variable called `df` (short for ***DataFrame***). If you've used R, you might be familiar with ***DataFrames***."
      ],
      "metadata": {
        "id": "8wmaGxRMDSHq"
      }
    },
    {
      "cell_type": "code",
      "source": [
        "import pprint as pp\n",
        "file = '/content/sample_data/california_housing_test.csv'\n",
        "df = pd.read_csv(file)\n",
        "\n",
        "pp.pprint(df.head(5))\n",
        "# pp.pprint(df.columns)"
      ],
      "metadata": {
        "id": "_1l5x391DuIU"
      },
      "execution_count": null,
      "outputs": []
    },
    {
      "cell_type": "markdown",
      "source": [
        "# Working with Google Drive using `gspread` ⚡"
      ],
      "metadata": {
        "id": "rfO2rTV02DSy"
      }
    },
    {
      "cell_type": "markdown",
      "source": [
        "This section is about how to connect to and read data from Google Sheets (and other files) in your Google Drive.\n",
        "\n",
        "It is important that you run the Authentication code first before trying any other operations.\n",
        "> You must authenticate your notebook under your Google account to access any of the files within it."
      ],
      "metadata": {
        "id": "YsVN2t39FBww"
      }
    },
    {
      "cell_type": "markdown",
      "source": [
        "## Authentication"
      ],
      "metadata": {
        "id": "5kL0COxlFIGD"
      }
    },
    {
      "cell_type": "markdown",
      "source": [
        "The below code cell must be copy-and-pasted into your notebook and run to authenticate the notebook under your Google account.\n",
        "\n",
        "The output will provide a link to accept the Google Drive SDK, press ***Accept***, copy the key provided, and enter it in the input box below the code cell. Then press ***Enter***. Your notebook should now be able to mount your Google Drive files."
      ],
      "metadata": {
        "id": "Jo6D9yGyBSV_"
      }
    },
    {
      "cell_type": "code",
      "source": [
        "# Import PyDrive and associated libraries.\n",
        "# This only needs to be done once per notebook.\n",
        "from pydrive.auth import GoogleAuth\n",
        "from pydrive.drive import GoogleDrive\n",
        "from google.colab import auth\n",
        "from oauth2client.client import GoogleCredentials\n",
        "import gspread\n",
        "\n",
        "# Authenticate and create the PyDrive client.\n",
        "# This only needs to be done once per notebook.\n",
        "auth.authenticate_user()\n",
        "gauth = GoogleAuth()\n",
        "gauth.credentials = GoogleCredentials.get_application_default()\n",
        "drive = GoogleDrive(gauth)\n"
      ],
      "metadata": {
        "id": "SarmxK-516PJ"
      },
      "execution_count": null,
      "outputs": []
    },
    {
      "cell_type": "markdown",
      "source": [
        "## Find a Sheet by its name and read data"
      ],
      "metadata": {
        "id": "czoorO8dFMAZ"
      }
    },
    {
      "cell_type": "markdown",
      "source": [
        "How to find a Google Spreadsheet by it's `fileName`:\n",
        "\n",
        "In this case, I named the spreadsheet `\"211221 gspread test\"`. It was created on December 12th, 2021 so I named it using this date.\n",
        "\n",
        "This is per Westcliff naming conventions (two-digit `<year><month><day>` then `<a name describing your file>`)\n",
        "\n",
        "[Link to the spreadsheet we're referencing here.](https://docs.google.com/spreadsheets/d/1tEvRRpn7B176igUdoni6MGeUjYnRaekgAFe7SOY6m1M/edit#gid=0)\n"
      ],
      "metadata": {
        "id": "0ZPMFUKQM9xQ"
      }
    },
    {
      "cell_type": "code",
      "source": [
        "# pass the name of the file as a string\n",
        "fileName = \"211221 gspread test\"\n",
        "\n",
        "gc = gspread.authorize(GoogleCredentials.get_application_default())\n",
        "\n",
        "sh = gc.open(fileName).sheet1\n",
        "\n",
        "# get_all_values gives a list of rows.\n",
        "rows = sh.get_all_values()\n",
        "\n",
        "# and convert to a Pandas DataFrame\n",
        "pd.DataFrame.from_records(rows)"
      ],
      "metadata": {
        "id": "FddBYJe_M5aq",
        "colab": {
          "base_uri": "https://localhost:8080/",
          "height": 81
        },
        "outputId": "dad9df3b-b39f-44fb-8c64-05efeff7220a"
      },
      "execution_count": null,
      "outputs": [
        {
          "output_type": "execute_result",
          "data": {
            "text/html": [
              "\n",
              "  <div id=\"df-7aef6999-5c13-4a5a-8b90-ec1f0d31787f\">\n",
              "    <div class=\"colab-df-container\">\n",
              "      <div>\n",
              "<style scoped>\n",
              "    .dataframe tbody tr th:only-of-type {\n",
              "        vertical-align: middle;\n",
              "    }\n",
              "\n",
              "    .dataframe tbody tr th {\n",
              "        vertical-align: top;\n",
              "    }\n",
              "\n",
              "    .dataframe thead th {\n",
              "        text-align: right;\n",
              "    }\n",
              "</style>\n",
              "<table border=\"1\" class=\"dataframe\">\n",
              "  <thead>\n",
              "    <tr style=\"text-align: right;\">\n",
              "      <th></th>\n",
              "      <th>0</th>\n",
              "    </tr>\n",
              "  </thead>\n",
              "  <tbody>\n",
              "    <tr>\n",
              "      <th>0</th>\n",
              "      <td>Hello world!</td>\n",
              "    </tr>\n",
              "  </tbody>\n",
              "</table>\n",
              "</div>\n",
              "      <button class=\"colab-df-convert\" onclick=\"convertToInteractive('df-7aef6999-5c13-4a5a-8b90-ec1f0d31787f')\"\n",
              "              title=\"Convert this dataframe to an interactive table.\"\n",
              "              style=\"display:none;\">\n",
              "        \n",
              "  <svg xmlns=\"http://www.w3.org/2000/svg\" height=\"24px\"viewBox=\"0 0 24 24\"\n",
              "       width=\"24px\">\n",
              "    <path d=\"M0 0h24v24H0V0z\" fill=\"none\"/>\n",
              "    <path d=\"M18.56 5.44l.94 2.06.94-2.06 2.06-.94-2.06-.94-.94-2.06-.94 2.06-2.06.94zm-11 1L8.5 8.5l.94-2.06 2.06-.94-2.06-.94L8.5 2.5l-.94 2.06-2.06.94zm10 10l.94 2.06.94-2.06 2.06-.94-2.06-.94-.94-2.06-.94 2.06-2.06.94z\"/><path d=\"M17.41 7.96l-1.37-1.37c-.4-.4-.92-.59-1.43-.59-.52 0-1.04.2-1.43.59L10.3 9.45l-7.72 7.72c-.78.78-.78 2.05 0 2.83L4 21.41c.39.39.9.59 1.41.59.51 0 1.02-.2 1.41-.59l7.78-7.78 2.81-2.81c.8-.78.8-2.07 0-2.86zM5.41 20L4 18.59l7.72-7.72 1.47 1.35L5.41 20z\"/>\n",
              "  </svg>\n",
              "      </button>\n",
              "      \n",
              "  <style>\n",
              "    .colab-df-container {\n",
              "      display:flex;\n",
              "      flex-wrap:wrap;\n",
              "      gap: 12px;\n",
              "    }\n",
              "\n",
              "    .colab-df-convert {\n",
              "      background-color: #E8F0FE;\n",
              "      border: none;\n",
              "      border-radius: 50%;\n",
              "      cursor: pointer;\n",
              "      display: none;\n",
              "      fill: #1967D2;\n",
              "      height: 32px;\n",
              "      padding: 0 0 0 0;\n",
              "      width: 32px;\n",
              "    }\n",
              "\n",
              "    .colab-df-convert:hover {\n",
              "      background-color: #E2EBFA;\n",
              "      box-shadow: 0px 1px 2px rgba(60, 64, 67, 0.3), 0px 1px 3px 1px rgba(60, 64, 67, 0.15);\n",
              "      fill: #174EA6;\n",
              "    }\n",
              "\n",
              "    [theme=dark] .colab-df-convert {\n",
              "      background-color: #3B4455;\n",
              "      fill: #D2E3FC;\n",
              "    }\n",
              "\n",
              "    [theme=dark] .colab-df-convert:hover {\n",
              "      background-color: #434B5C;\n",
              "      box-shadow: 0px 1px 3px 1px rgba(0, 0, 0, 0.15);\n",
              "      filter: drop-shadow(0px 1px 2px rgba(0, 0, 0, 0.3));\n",
              "      fill: #FFFFFF;\n",
              "    }\n",
              "  </style>\n",
              "\n",
              "      <script>\n",
              "        const buttonEl =\n",
              "          document.querySelector('#df-7aef6999-5c13-4a5a-8b90-ec1f0d31787f button.colab-df-convert');\n",
              "        buttonEl.style.display =\n",
              "          google.colab.kernel.accessAllowed ? 'block' : 'none';\n",
              "\n",
              "        async function convertToInteractive(key) {\n",
              "          const element = document.querySelector('#df-7aef6999-5c13-4a5a-8b90-ec1f0d31787f');\n",
              "          const dataTable =\n",
              "            await google.colab.kernel.invokeFunction('convertToInteractive',\n",
              "                                                     [key], {});\n",
              "          if (!dataTable) return;\n",
              "\n",
              "          const docLinkHtml = 'Like what you see? Visit the ' +\n",
              "            '<a target=\"_blank\" href=https://colab.research.google.com/notebooks/data_table.ipynb>data table notebook</a>'\n",
              "            + ' to learn more about interactive tables.';\n",
              "          element.innerHTML = '';\n",
              "          dataTable['output_type'] = 'display_data';\n",
              "          await google.colab.output.renderOutput(dataTable, element);\n",
              "          const docLink = document.createElement('div');\n",
              "          docLink.innerHTML = docLinkHtml;\n",
              "          element.appendChild(docLink);\n",
              "        }\n",
              "      </script>\n",
              "    </div>\n",
              "  </div>\n",
              "  "
            ],
            "text/plain": [
              "              0\n",
              "0  Hello world!"
            ]
          },
          "metadata": {},
          "execution_count": 13
        }
      ]
    },
    {
      "cell_type": "markdown",
      "source": [
        "## Print all files in Google Drive root folder:"
      ],
      "metadata": {
        "id": "MM0dZRYBMi3M"
      }
    },
    {
      "cell_type": "markdown",
      "source": [
        "Here's a snippet for printing all files in your Google Drive root directory (assuming you've authenticated)."
      ],
      "metadata": {
        "id": "K0QrBMMyFVrn"
      }
    },
    {
      "cell_type": "code",
      "source": [
        "file_list = drive.ListFile({'q': \"'root' in parents and trashed=false\"}).GetList()\n",
        "my_files = [print(f\"Title:  {file1['title']}\\\n",
        "\\n   ID:    {file1['id']}\") for file1 in file_list]"
      ],
      "metadata": {
        "id": "MwRDu-gCIoI4"
      },
      "execution_count": null,
      "outputs": []
    },
    {
      "cell_type": "markdown",
      "source": [
        "## Sharing a Google Sheet with another user:"
      ],
      "metadata": {
        "id": "anW6SJvvMfL0"
      }
    },
    {
      "cell_type": "markdown",
      "source": [
        "***Try it out:*** change the string assigned to the `email` variable to your Westcliff email address to send yourself an email."
      ],
      "metadata": {
        "id": "0PuHsgP0r-EW"
      }
    },
    {
      "cell_type": "code",
      "source": [
        "email = 'henrikalbihn@westcliff.edu' # who do you want to share with?\n",
        "role = 'writer' # this makes them an editor\n",
        "\n",
        "try:\n",
        "  sh.share(email, perm_type='user', role=role, email_message=True)\n",
        "  print(f'Successfully shared {role} access to user: {email}.')\n",
        "except Exception as e:\n",
        "  print(f'Share failed.\\n {e} ')"
      ],
      "metadata": {
        "id": "WtjR3OzyMZvN"
      },
      "execution_count": null,
      "outputs": []
    },
    {
      "cell_type": "markdown",
      "source": [
        "With the `email_message` argument of the `share()` function set to `True`, we can send a notification to the share-ee.\n",
        "\n",
        "> Notice the `try:` and `except:` block. This is called exception handling and it's used to handle errors if they happen. More on this later."
      ],
      "metadata": {
        "id": "ieVwcSfNtWfZ"
      }
    },
    {
      "cell_type": "markdown",
      "source": [
        "# The Zen of Python 🧘"
      ],
      "metadata": {
        "id": "P1vF3cB2SUKA"
      }
    },
    {
      "cell_type": "markdown",
      "source": [
        "> There is ***good*** coding style and there is ***bad*** coding style.\n",
        "\n",
        "We want our code to be ***pythonic***.\n",
        "\n",
        "Pythonic is a term which means to write your code as simply and legibly as possible while still being verboose (explicit) about what each line does. Basically, it means write **good** code. You can read a poem written by ***Tim Peters***, one of the original authors of python about it's guiding principles by running the below code cell (sort of an easter egg `import this`)."
      ],
      "metadata": {
        "id": "g3Vm5HSOw-Xp"
      }
    },
    {
      "cell_type": "code",
      "source": [
        "# Run this cell to read 'The Zen of Python'\n",
        "# a poem about the guiding principles of Python\n",
        "# written by one of it's creators: Tim Peters.\n",
        "import this"
      ],
      "metadata": {
        "id": "7TY6u2kOScNN"
      },
      "execution_count": null,
      "outputs": []
    },
    {
      "cell_type": "markdown",
      "source": [
        "## Congrats, you're now a Pythonista 🐍💃\n",
        "No, I'm not kidding. That's the [real term](https://pythonistaplanet.com/pythonista/) for someone who codes in Python. Enjoy this fun and rewarding language.\n",
        "> ***Happy coding!***"
      ],
      "metadata": {
        "id": "iK0BMWQ81tec"
      }
    },
    {
      "cell_type": "markdown",
      "source": [
        "I know this is a long one, so if you've made it this far, thank you! This took a long time to put together but it was worth it. This is meant to be a resource for you to check back on whenever you have a question about Python. \n",
        "\n",
        "I hope it will be valuable to you in your journey to learn Python and Data Science. Thanks for reading"
      ],
      "metadata": {
        "id": "LueopSIL44tu"
      }
    },
    {
      "cell_type": "code",
      "source": [
        "# change the list to your name and see just how thankful I am.\n",
        "names = [\"Jason\", \"Trent\"]\n",
        "def ThankYouMsg(Names):\n",
        "  for name in Names:\n",
        "    print(f\"Thanks for reading, {name}!\")\n",
        "\n",
        "ThankYouMsg(names)"
      ],
      "metadata": {
        "id": "UwZUfCNq2mkK"
      },
      "execution_count": null,
      "outputs": []
    },
    {
      "cell_type": "markdown",
      "source": [
        "### ~ *Henrik*"
      ],
      "metadata": {
        "id": "valV0ruI2W7c"
      }
    },
    {
      "cell_type": "markdown",
      "source": [
        "# Additional Resources"
      ],
      "metadata": {
        "id": "GPSAXklJtYrJ"
      }
    },
    {
      "cell_type": "markdown",
      "source": [
        "Below are just a few additional resources you may find useful when you have questions or need practice."
      ],
      "metadata": {
        "id": "20Vjtn3G5dZo"
      }
    },
    {
      "cell_type": "markdown",
      "source": [
        "*   [Stack Overflow](https://stackoverflow.com/): is a Q/A board where you can ask coding questions and get answers from experts. Most questions I've asked are answered same day. Make sure to tag your questions with `python` and the packages in question.\n",
        "> *Stack Overflow is public so be sure not to post any sensitive data.\n",
        "*   [GitHub](https://github.com/) is a code repository for using `git`. You can backup your code and enforce version control. I recommend you setup an account and learn how to use it. We do not currently use GitHub as a department, but would like to in the future.\n",
        "> *Same goes for GitHub, make your repositories private and don't push anything sensitive.\n",
        "*   [DataCamp](https://www.datacamp.com/) is an interactive learning platform that focuses on coding, Data Analytics, and Data Science. You can try it for free but the membership is $25/month. I recommend just because I've used it extensively. There are free alternatives like [Free Code Camp](https://www.freecodecamp.org/learn/data-analysis-with-python/), but I haven't used it much."
      ],
      "metadata": {
        "id": "ZzOqP91SlTDi"
      }
    },
    {
      "cell_type": "markdown",
      "source": [
        "## Package Documentation\n",
        "\n",
        "Various documentation by package:\n",
        "* [gspread](https://docs.gspread.org/en/latest/api.html): API reference\n",
        "* [gspread-pandas](https://github.com/aiguofer/gspread-pandas): experimental package GitHub page\n",
        "* [gspread-dataframe](https://github.com/robin900/gspread-dataframe): experimental package GitHub page\n",
        "* [matplotlib](https://matplotlib.org/stable/api/index): API reference\n",
        "* [numpy](https://numpy.org/doc/stable/reference/): API reference\n",
        "* [pandas](https://pandas.pydata.org/docs/reference/index.html): API Reference\n",
        "* [pandas](https://pandas.pydata.org/docs/getting_started/index.html#coming-from): Getting started if you're coming from R, SQL, Excel, and more.\n",
        "* [seaborn](https://seaborn.pydata.org/api.html#): API reference"
      ],
      "metadata": {
        "id": "_kA7Fx5AvU0-"
      }
    },
    {
      "cell_type": "markdown",
      "source": [
        "## More cool stuff about Colab\n",
        "[Link to notebook on Data Table](https://colab.research.google.com/notebooks/data_table.ipynb#scrollTo=JgBtx0xFFv_i): Data Table is a cool interactive display kind of like Excel for Colab notebooks."
      ],
      "metadata": {
        "id": "cBtgIDHz1BWy"
      }
    }
  ]
}