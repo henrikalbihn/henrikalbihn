{
  "nbformat": 4,
  "nbformat_minor": 0,
  "metadata": {
    "colab": {
      "name": "intro2R.ipynb",
      "provenance": [],
      "toc_visible": true,
      "authorship_tag": "ABX9TyMqRNHGFjPX/uhuxBvPDa5m",
      "include_colab_link": true
    },
    "kernelspec": {
      "name": "ir",
      "display_name": "R"
    },
    "language_info": {
      "name": "R"
    }
  },
  "cells": [
    {
      "cell_type": "markdown",
      "metadata": {
        "id": "view-in-github",
        "colab_type": "text"
      },
      "source": [
        "<a href=\"https://colab.research.google.com/github/henrikalbihn/henrikalbihn/blob/main/intro2R.ipynb\" target=\"_parent\"><img src=\"https://colab.research.google.com/assets/colab-badge.svg\" alt=\"Open In Colab\"/></a>"
      ]
    },
    {
      "cell_type": "markdown",
      "source": [
        "# Crash Course in R 🇷"
      ],
      "metadata": {
        "id": "PPu50sWESUYc"
      }
    },
    {
      "cell_type": "markdown",
      "source": [
        "## Welcome to Google Colab! 🎉"
      ],
      "metadata": {
        "id": "HnUVP73BQHKk"
      }
    },
    {
      "cell_type": "markdown",
      "source": [
        "Colab (short for Colaboratory) is a Python 3/R environment run on GCE (Google Compute Engine) that supports Jupyter notebooks (.ipynb files) and is stored in Google Drive.\n",
        "\n",
        "> Why Colab over another R environment?\n",
        "\n",
        "I like Colab because it requires basically no setup and Google makes it super easy to share code using Google Drive. That being said, you should still install [R](https://ftp.osuosl.org/pub/cran/) and [RStudio](https://www.rstudio.com/products/rstudio/download/#download) on your local machine. I still reach for RStudio as my IDE of choice for developing in R, Colab just has many sharing benefits.\n",
        "\n",
        "> Why Jupyter notebooks over .R files?\n",
        "\n",
        "I like using Jupyter notebooks because it's easy to teach other people what your code does using ***markdown*** and you can embed images, code cells, ***LaTeX***, and more. That being said, .R files have their use cases (like for automation) and we use both here at Westcliff.\n",
        "\n",
        "> See links for more info on [Google Colab](https://research.google.com/colaboratory/faq.html) and [project Jupyter](https://jupyter.org/).\n"
      ],
      "metadata": {
        "id": "HnKG9qbNXlnV"
      }
    },
    {
      "cell_type": "markdown",
      "source": [
        "### Note: Colab for R\n",
        "> Google Colab uses a *Python 3* runtime by default.\n",
        "\n",
        "To ensure you are using R, go to the top ribbon header ***Runtime*** then click ***Change runtime type***, select R, and click ***Save***.\n",
        "\n",
        "Your notebook will now run R code.\n",
        "\n",
        "Another note: Colab does ***not*** support mounting your Google Drive directly into R notebooks. There are ways around it and we'll get to that in the Google Drive section."
      ],
      "metadata": {
        "id": "wGgXT5VLOpbZ"
      }
    },
    {
      "cell_type": "markdown",
      "source": [
        "## Hello, World! 👋 🌎"
      ],
      "metadata": {
        "id": "pvUR9LIoVHnk"
      }
    },
    {
      "cell_type": "markdown",
      "source": [
        "As with any intro to a programming language, we will start by calling the most basic function you can write: `print()`.\n",
        "\n",
        "If it's not already obvious, `print()` prints a message to the console. We will begin with the tradition used by computer scientists since [1974](https://en.wikipedia.org/wiki/%22Hello,_World!%22_program)!\n",
        "\n",
        "> **\"Hello, world!\"**\n",
        "\n",
        "To run the code cell below, click the play button on the left side of the code cell or click inside the cell and press (CMD/CTRL + ENTER).\n",
        "\n",
        "In a Jupyter notebook, instead of printing the output to the console, it prints just below the code cell."
      ],
      "metadata": {
        "id": "9WmIZeqhYYvh"
      }
    },
    {
      "cell_type": "code",
      "source": [
        "print(\"Hello World!\")\n",
        "\n",
        "# You can also set the quote argument to FALSE\n",
        "# to suppress quotes in the output.\n",
        "print(\"Hello World!\", quote = FALSE)"
      ],
      "metadata": {
        "id": "MhtCpXgxX3sc"
      },
      "execution_count": null,
      "outputs": []
    },
    {
      "cell_type": "markdown",
      "source": [
        "This code cell has ***comments*** (the lines starting with `#`). Comments do not run, they are used to explain what your code does. \n",
        "> ***Note on commenting:***\n",
        "using readable and easily understandable comments whenever possible is good practice. In the event of someone else using your code, this is the only way for them to make sense of your operations. The same goes for looking at your own code months or years later so please ***write good comments***! "
      ],
      "metadata": {
        "id": "pS46Ny5HYuqc"
      }
    },
    {
      "cell_type": "markdown",
      "source": [
        "### Variable Assignment\n",
        "> In R, there are two ways to assign a variable,\n",
        "1. using a single equal-sign `=` (like in Python)\n",
        "2. a less-than-sign followed by a dash (looks like a left-facing arrow) `<-`.\n",
        "\n",
        "Despite requiring a little more typing, the `<-` sign is the generally accepted symbol for variable assignment and ***I suggest you use this every time***.\n",
        "\n",
        "Notice that the function prints characters *within* the `string` in double quotes `\" \"`. You can also pass a ***variable*** to the `print()` function. Here we will create a variable called `message` and assign it the `string` value `\"Hello, world!\"`. This is called ***variable assignment***."
      ],
      "metadata": {
        "id": "Wuo5uUn-Zy58"
      }
    },
    {
      "cell_type": "code",
      "source": [
        "message <- \"Hello, world!\"\n",
        "\n",
        "print(message)"
      ],
      "metadata": {
        "id": "a21WIjTSZ5Ax"
      },
      "execution_count": null,
      "outputs": []
    },
    {
      "cell_type": "markdown",
      "source": [
        "Notice that the output is the ***same*** whether we assign the string to a variable or pass the string directly!\n",
        "\n",
        "> In R, there are many different ways to code the same thing!"
      ],
      "metadata": {
        "id": "Fw36mJrBaAbB"
      }
    },
    {
      "cell_type": "code",
      "source": [
        "# an even simpler way to print the value of message\n",
        "# without calling the print() function\n",
        "\n",
        "message <- \"Hello, world!\"\n",
        "\n",
        "message"
      ],
      "metadata": {
        "id": "44hqbRbfdDva"
      },
      "execution_count": null,
      "outputs": []
    },
    {
      "cell_type": "markdown",
      "source": [
        "We can also assign a ***list*** to a ***variable***."
      ],
      "metadata": {
        "id": "f9hGF8GPejSH"
      }
    },
    {
      "cell_type": "code",
      "source": [
        "l <- c(\"Hello\", \",\", \" \", \"world\", \"!\")\n",
        "\n",
        "# paste is a useful function to concatenate strings\n",
        "print(paste(l, collapse=\"\"))"
      ],
      "metadata": {
        "id": "stChBhqBeo5f"
      },
      "execution_count": null,
      "outputs": []
    },
    {
      "cell_type": "markdown",
      "source": [
        "## Data Types/Structures"
      ],
      "metadata": {
        "id": "Yu8mBHbpcc8c"
      }
    },
    {
      "cell_type": "markdown",
      "source": [
        "R supports many data types, we will cover just the basics."
      ],
      "metadata": {
        "id": "rtpKv175cegH"
      }
    },
    {
      "cell_type": "markdown",
      "source": [
        "### Vectors"
      ],
      "metadata": {
        "id": "RJHKBdqSd2aS"
      }
    },
    {
      "cell_type": "markdown",
      "source": [
        "Vectors are the most basic R data objects and there are six types of atomic vectors.\n",
        "\n",
        "They are *logical*, *integer*, *double*, *character*, *complex*, and *raw*.\n",
        "\n",
        "1. ***Logical*** vectors hold boolean values: `TRUE` / `FALSE`\n",
        "2. ***Integer*** vectors hold whole number values: `1` / `0` / `590`\n",
        "3. ***Double*** vectors hold floating point numbers: `3.1` / `9.99` / `0.5`\n",
        "4. ***Character*** vectors hold character *strings*: `\"Hello\"` / `'Sam'` / `\"5\"`\n",
        "5. ***Complex*** vectors hold *complex* and *imaginary* numbers: `2+3i` / `5+0i` / `3+5i`\n",
        "6. ***Raw*** vectors hold *raw bytes*, they print as hexadecimals: `01` / `06` / `ff` / `0a`\n",
        "\n",
        "> We will mainly focus on the first four. ***Complex*** and ***Raw*** are rarely used in Data Analysis."
      ],
      "metadata": {
        "id": "9wClzP_Vd_Rl"
      }
    },
    {
      "cell_type": "code",
      "source": [
        "a <- c(1, 2, 5.3, 6, -2,4) # numeric vector\n",
        "b <- c(\"one\", \"two\", \"three\") # character vector\n",
        "c <- c(TRUE, T, TRUE, F, TRUE, FALSE) # logical vector (note)\n",
        "d <- c(1, 'two', TRUE, 2+3i) # passing one string results in char\n",
        "\n",
        "class(a)\n",
        "class(b)\n",
        "class(c)\n",
        "class(d) # notice that this evaluates as a character vector"
      ],
      "metadata": {
        "id": "KnUmiDogdHil"
      },
      "execution_count": null,
      "outputs": []
    },
    {
      "cell_type": "markdown",
      "source": [
        "> The `class()` function\n",
        "\n",
        "You can use the `class()` function to check the data type of whatever you pass as the argument."
      ],
      "metadata": {
        "id": "uDtEiyQAq_kF"
      }
    },
    {
      "cell_type": "markdown",
      "source": [
        "### Matrices/Arrays (Optional)"
      ],
      "metadata": {
        "id": "ZF0NWE0ykQci"
      }
    },
    {
      "cell_type": "markdown",
      "source": [
        "A Matrix is a two-dimensional data structure (rows x columns). All elements must be the same atomic type."
      ],
      "metadata": {
        "id": "jmJMHCK6dFrU"
      }
    },
    {
      "cell_type": "code",
      "source": [
        "# generates 5 x 4 integer matrix\n",
        "y <- matrix(1:20, nrow = 5, ncol = 4)\n",
        "y"
      ],
      "metadata": {
        "id": "0MjgtRabklLY"
      },
      "execution_count": null,
      "outputs": []
    },
    {
      "cell_type": "markdown",
      "source": [
        "Arrays are similar to matrices, but can have more than two dimensions.\n",
        "\n",
        "We do not use arrays very often (or matrices for that matter), so we will skip over these, but here's how you make one."
      ],
      "metadata": {
        "id": "iozEjfZSlzIT"
      }
    },
    {
      "cell_type": "code",
      "source": [
        "# Create two vectors of different lengths.\n",
        "vector1 <- c(5, 9, 3)\n",
        "vector2 <- c(10, 11, 12, 13, 14, 15)\n",
        "column.names <- c(\"COL1\", \"COL2\", \"COL3\")\n",
        "row.names <- c(\"ROW1\", \"ROW2\", \"ROW3\")\n",
        "matrix.names <- c(\"Matrix1\", \"Matrix2\")\n",
        "\n",
        "# Take these vectors as input to the array.\n",
        "result <- array(c(vector1, vector2),\n",
        "                  dim = c(3, 3, 2),\n",
        "                  dimnames = list(row.names, column.names, matrix.names))\n",
        "print(result)"
      ],
      "metadata": {
        "id": "R3lh4EIdlZUy"
      },
      "execution_count": null,
      "outputs": []
    },
    {
      "cell_type": "markdown",
      "source": [
        "### Data Frames"
      ],
      "metadata": {
        "id": "90lvEQyGnGHE"
      }
    },
    {
      "cell_type": "markdown",
      "source": [
        "Data Frames are a more general application of a matrix because the columns can be of different atomic types.\n",
        "> Data Frames are used in ***Excel***, ***Google Sheets***, ***SAS***, ***SPSS***, ***Python*** (`pandas` module), and more so you should get very familiar with them!\n",
        "\n",
        "It is common practice to name our Data Frames as `<name>.df` so they are easy to identify as such.\n",
        "\n",
        "To combine vectors into a Data Frame, we use the `data.frame` function and pass the names of the vectors we would like to combine."
      ],
      "metadata": {
        "id": "5jTN7zZznITi"
      }
    },
    {
      "cell_type": "code",
      "source": [
        "d <- c(1, 2, 3, 4)\n",
        "e <- c(\"red\", \"white\", \"red\", NA)\n",
        "f <- c(TRUE, TRUE, TRUE, FALSE)\n",
        "\n",
        "# to combine vectors into a Data Frame we use the data.frame function\n",
        "mydata.df <- data.frame(d, e, f)\n",
        "mydata.names <- c(\"ID\", \"Color\", \"Passed\") # char vector of var names\n",
        "names(mydata.df) <- mydata.names # assign char vector to names()\n",
        "\n",
        "mydata.df"
      ],
      "metadata": {
        "id": "D2yBveKsnkWJ"
      },
      "execution_count": null,
      "outputs": []
    },
    {
      "cell_type": "markdown",
      "source": [
        "### Lists"
      ],
      "metadata": {
        "id": "IbuN3WxurKzb"
      }
    },
    {
      "cell_type": "markdown",
      "source": [
        "Lists are like vectors, but the elements can be of different types, they can even be other lists, matrices, arrays, Data Frames, and any combination of them."
      ],
      "metadata": {
        "id": "S-gaEHrcrMU4"
      }
    },
    {
      "cell_type": "code",
      "source": [
        "# example of a list with 4 components -\n",
        "# a string, a numeric vector, a matrix, and a scaler\n",
        "w <- list(name=\"Fred\", mynumbers=c(1,2,3), mymatrix=y, age=5.3)\n",
        "w"
      ],
      "metadata": {
        "id": "hWoU1GpgtBas"
      },
      "execution_count": null,
      "outputs": []
    },
    {
      "cell_type": "markdown",
      "source": [
        "### Factors (Nominal & Ordinal)"
      ],
      "metadata": {
        "id": "s3_YvLxirOtz"
      }
    },
    {
      "cell_type": "markdown",
      "source": [
        "Factors are the name R uses for ***categorical variables***. They can be binary, like the case of male & female, where there is no order.\n",
        "> We call these ***nominal*** factors."
      ],
      "metadata": {
        "id": "U-zBnDYmtiG1"
      }
    },
    {
      "cell_type": "code",
      "source": [
        "# variable gender with 20 \"male\" entries and\n",
        "# 30 \"female\" entries\n",
        "gender <- c(rep(\"male\",20), rep(\"female\", 30))\n",
        "gender <- factor(gender)\n",
        "# stores gender as 20 1s and 30 2s and associates\n",
        "# 1=female, 2=male internally (alphabetically)\n",
        "# R now treats gender as a nominal variable\n",
        "gender"
      ],
      "metadata": {
        "id": "-EPnXGtftrCj"
      },
      "execution_count": null,
      "outputs": []
    },
    {
      "cell_type": "markdown",
      "source": [
        "Factors can also be ***ordinal*** - meaning they must follow an order. Like the case of `large` > `medium` > `small`. For ordinal factors, we must assign `levels.`\n",
        "\n",
        "> Factors are stored internally as integers. So if your factor has 3 levels, then the character values will be stored as `1`, `2`, and `3` where `1` is the highest order level. They are reconverted for printing."
      ],
      "metadata": {
        "id": "amnNSat8uNZE"
      }
    },
    {
      "cell_type": "code",
      "source": [
        "foodOrders <- c(rep(\"large\",10), rep(\"medium\", 10), rep(\"small\", 10))\n",
        "levels <- c('large', 'medium', 'small')\n",
        "\n",
        "# If we left the levels argument blank, it would order\n",
        "# alphabetically by default\n",
        "foodOrders <- factor(foodOrders, levels = levels)\n",
        "\n",
        "foodOrders"
      ],
      "metadata": {
        "id": "7vagG9dRuebV"
      },
      "execution_count": null,
      "outputs": []
    },
    {
      "cell_type": "markdown",
      "source": [
        "Factors are necessary for statistical tasks like ***classification*** and ***regression*** so I recommend you learn how to use them."
      ],
      "metadata": {
        "id": "7xaxJTuT3oUW"
      }
    },
    {
      "cell_type": "markdown",
      "source": [
        "## Dependencies: Libraries/Modules/Packages 📚"
      ],
      "metadata": {
        "id": "ZTN_K3IOdQsp"
      }
    },
    {
      "cell_type": "markdown",
      "source": [
        "R comes with built-in libraries (also called \"packages\" or \"modules\", I will use the terms interchangeably).\n",
        "\n",
        "They are essentially stores of pre-written functions, data, and more that you can access and use in your code. This allows you to build off of very complicated implementations instead of having to build them from scratch.\n",
        "\n",
        "> *P.S.* The one we will focus on for data analysis is called `tidyverse` 🌌. The Tidyverse is a collection of several useful packages put together so you only need to call one instead of many."
      ],
      "metadata": {
        "id": "4e64iJ_5W3W2"
      }
    },
    {
      "cell_type": "markdown",
      "source": [
        "### The `library()` & `install.packages()` functions"
      ],
      "metadata": {
        "id": "zX1QLV_T05Gc"
      }
    },
    {
      "cell_type": "markdown",
      "source": [
        "To import a package, start with:\n",
        "\n",
        ">`library(<packagename>)`\n",
        "\n",
        "`library` is used to make functions, data, classes, and more available in the current environment.\n",
        "\n",
        "The package **must** first be installed in your environment. You cannot import a package without installing it first.\n",
        "\n",
        "To install a package, run:\n",
        "\n",
        ">`install.packages(<packagename>)`\n",
        "\n",
        "\n",
        "In Google Colab, the package is only installed in the current notebook so to use a package which is not installed by default, you must use `install.packages(<packagename>)` every time you open a new notebook. Try it out:"
      ],
      "metadata": {
        "id": "FuvA_WAX04Zv"
      }
    },
    {
      "cell_type": "code",
      "execution_count": null,
      "metadata": {
        "id": "Mcy10nt1RprW"
      },
      "outputs": [],
      "source": [
        "# The warning message can be ignored here,\n",
        "# it shows what packages are in the tidyverse.\n",
        "library(tidyverse)\n",
        "\n",
        "# # We can also remove it using\n",
        "# suppressMessages(library(dplyr))"
      ]
    },
    {
      "cell_type": "markdown",
      "source": [
        "Here's a useful snippet to show what packages are currently installed with their version number."
      ],
      "metadata": {
        "id": "wQBeiIFja3fg"
      }
    },
    {
      "cell_type": "code",
      "source": [
        "# show currently installed packages with version\n",
        "ip = as.data.frame(installed.packages()[,c(1, 3:4)])\n",
        "ip = ip[is.na(ip$Priority), 1:2, drop = FALSE]\n",
        "ip"
      ],
      "metadata": {
        "id": "vavgZUtYR1gm"
      },
      "execution_count": null,
      "outputs": []
    },
    {
      "cell_type": "markdown",
      "source": [
        "Here's a few useful packages that are not installed by default. Technically, `googlesheets4` & `googledrive` are  part of the `tidyverse`, however sometimes R cannot find functions within the library without explicity installing and importing them (R is an open-source language and thus occasionally has bugs)."
      ],
      "metadata": {
        "id": "ggYMjFlXbRMr"
      }
    },
    {
      "cell_type": "code",
      "source": [
        "# install.packages('googlesheets4')\n",
        "# install.packages('googledrive')\n",
        "install.packages('RMariaDB')"
      ],
      "metadata": {
        "id": "OOlI37EUYy2W"
      },
      "execution_count": null,
      "outputs": []
    },
    {
      "cell_type": "markdown",
      "source": [
        "You can also call a specific function from a library like "
      ],
      "metadata": {
        "id": "OJpw6XDa4WNU"
      }
    },
    {
      "cell_type": "markdown",
      "source": [
        "## Welcome to the Tidyverse 🌌"
      ],
      "metadata": {
        "id": "liigth3NpctH"
      }
    },
    {
      "cell_type": "markdown",
      "source": [
        "The `tidyverse` is an opinionated collection of R packages designed for data science. All packages share an underlying design philosophy, grammar, and data structures. This makes them very easy to use together."
      ],
      "metadata": {
        "id": "4xLlqs-cQw7N"
      }
    },
    {
      "cell_type": "markdown",
      "source": [
        "### Working with Pipes `%>%`"
      ],
      "metadata": {
        "id": "_THttBKxz8hX"
      }
    },
    {
      "cell_type": "markdown",
      "source": [
        "Pipes `%>%` are a cool feature of the Tidyverse. They come from the `magrittr` package but are included in `dplyr` as well. Pipes allow you to string multiple operations and pass a *tibble* or *data frame* to a function.\n",
        "> `f(x,y)` becomes `x %>% f(y)`.\n",
        "You can also think of a pipe as a `then` operation. Here's the pseduocode below:\n",
        "\n",
        "```\n",
        "data %>%\n",
        "  function(y) %>%\n",
        "  differentFunction(z) %>%\n",
        "  anotherFunction(z)\n",
        "```"
      ],
      "metadata": {
        "id": "DA283VF05_K5"
      }
    },
    {
      "cell_type": "markdown",
      "source": [
        "Above we are passing our data into one function, `then` another, `then` another. We can do this as many times as we like.\n",
        "\n",
        "> Pipes are awesome when coupled with the `dplyr` package to make your code super readable."
      ],
      "metadata": {
        "id": "BOemhXk87jqW"
      }
    },
    {
      "cell_type": "markdown",
      "source": [
        "### Data manipulation with `dplyr` 🧰"
      ],
      "metadata": {
        "id": "pVef_ac10MzT"
      }
    },
    {
      "cell_type": "markdown",
      "source": [
        "`dplyr` (pronounced dee-plier) is the main workhorse for data manipulation. It has several awesome built-in functions for data manipulation.\n",
        "\n",
        "As you may know, R comes with some built-in datasets and the Tidyverse gives you access to even more.\n",
        "\n",
        "Let's try the `starwars` dataset. If you've already used `library(tidyverse)` you can just run the `starwars` keyword to return the data."
      ],
      "metadata": {
        "id": "d1qe85_D4qGN"
      }
    },
    {
      "cell_type": "code",
      "source": [
        "library(tidyverse)\n",
        "starwars"
      ],
      "metadata": {
        "id": "4OWOfBuf4kpd"
      },
      "execution_count": null,
      "outputs": []
    },
    {
      "cell_type": "markdown",
      "source": [
        "Note the `class` of `starwars`. It's a ***tibble*** (*tbl* short for *table* hence ***tibble***).\n",
        "\n",
        "In `tidyverse` speak, you can think of a ***tibble*** as a \"*better*\" version of a data frame, but for our purposes they are virtually the same thing. See [here](https://tibble.tidyverse.org/) for more info on tibbles."
      ],
      "metadata": {
        "id": "Gtay6NwV5FHj"
      }
    },
    {
      "cell_type": "markdown",
      "source": [
        "We can select just certain columns with `select()`"
      ],
      "metadata": {
        "id": "j686gRBE7vsU"
      }
    },
    {
      "cell_type": "code",
      "source": [
        "starwars %>%\n",
        "  select(name, skin_color, eye_color)"
      ],
      "metadata": {
        "id": "s3V93Xz-8B-3"
      },
      "execution_count": null,
      "outputs": []
    },
    {
      "cell_type": "markdown",
      "source": [
        "There are also helper functions for select like `starts_with()`, `ends_with()`, `matches()`, and `contains()`."
      ],
      "metadata": {
        "id": "bgrDk56e85yd"
      }
    },
    {
      "cell_type": "code",
      "source": [
        "# selects only columns whose name ends with \"color\"\n",
        "starwars %>%\n",
        "  select(ends_with(\"color\"))"
      ],
      "metadata": {
        "id": "FFJSEU3T9Kx3"
      },
      "execution_count": null,
      "outputs": []
    },
    {
      "cell_type": "markdown",
      "source": [
        "We can also use `mutate()` to create new columns and change existing ones."
      ],
      "metadata": {
        "id": "333Lcpfb9f-z"
      }
    },
    {
      "cell_type": "code",
      "source": [
        "# creates new column height_m for height in meters\n",
        "starwars %>%\n",
        "  mutate(height_m = height / 100)"
      ],
      "metadata": {
        "id": "Ijio-U029hGy"
      },
      "execution_count": null,
      "outputs": []
    },
    {
      "cell_type": "markdown",
      "source": [
        "Let's string some operations together and reorder our columns."
      ],
      "metadata": {
        "id": "fRu-10jc94G7"
      }
    },
    {
      "cell_type": "code",
      "source": [
        "# creates height_m\n",
        "# then selects new column, old height followed by everything else\n",
        "# this reorders the output table without changing the data (reassigning)\n",
        "starwars %>%\n",
        "  mutate(height_m = height / 100) %>%\n",
        "  select(height_m, height, everything())"
      ],
      "metadata": {
        "id": "HhkQRPS494g4"
      },
      "execution_count": null,
      "outputs": []
    },
    {
      "cell_type": "markdown",
      "source": [
        "Another method for reordering columns is `relocate()`"
      ],
      "metadata": {
        "id": "tGrVL2o4-mEU"
      }
    },
    {
      "cell_type": "code",
      "source": [
        "starwars %>%\n",
        "  relocate(sex:homeworld, .before = height)"
      ],
      "metadata": {
        "id": "EeGbugft-osr"
      },
      "execution_count": null,
      "outputs": []
    },
    {
      "cell_type": "markdown",
      "source": [
        "Finally let's use `group_by` and `summarise()` to make a pivot table of `species` by `sex`, `avg_height`, and `avg_mass`."
      ],
      "metadata": {
        "id": "FY4k-VhV-4tR"
      }
    },
    {
      "cell_type": "code",
      "source": [
        "starwars %>%\n",
        "  group_by(species, sex) %>%\n",
        "  select(height, mass) %>%\n",
        "  summarise(\n",
        "    avg_height = mean(height, na.rm = TRUE),\n",
        "    avg_mass = mean(mass, na.rm = TRUE)\n",
        "  )"
      ],
      "metadata": {
        "id": "wo7Z14hc-5JT"
      },
      "execution_count": null,
      "outputs": []
    },
    {
      "cell_type": "markdown",
      "source": [
        "### Importing data with `readr` and `readxl` 👓"
      ],
      "metadata": {
        "id": "04KlXTSX0D1L"
      }
    },
    {
      "cell_type": "markdown",
      "source": [
        "The `readr` package provides a slightly improved version of the base-R `read.csv()` which is `read_csv()` (note the underscore). This is useful because it also works with pipes.\n",
        "\n",
        "Example in pseudocode:\n",
        "\n",
        "```\n",
        "df <- read_csv(data.csv) %>%\n",
        "  select(just, these, columns,)\n",
        "```\n",
        "Run below to read in and assign the example dataset to the `df` variable."
      ],
      "metadata": {
        "id": "o_3wlp3W_tqx"
      }
    },
    {
      "cell_type": "code",
      "source": [
        "df <- read_csv(readr_example(\"challenge.csv\"))\n",
        "df"
      ],
      "metadata": {
        "id": "FvqNzLUE_xsA"
      },
      "execution_count": null,
      "outputs": []
    },
    {
      "cell_type": "markdown",
      "source": [
        "The `readxl` package provides the `read_excel()` function for reading .xlsx files.\n",
        "\n",
        "```\n",
        "library(readxl)\n",
        "df1 <- read_excel('~/file.xlsx')\n",
        "```"
      ],
      "metadata": {
        "id": "ao95K5RRBQaA"
      }
    },
    {
      "cell_type": "markdown",
      "source": [
        "### Plotting with `ggplot2` 📈"
      ],
      "metadata": {
        "id": "UxKrR45q0KB2"
      }
    },
    {
      "cell_type": "markdown",
      "source": [
        "Need a graph?"
      ],
      "metadata": {
        "id": "_BcnZzTfB0V9"
      }
    },
    {
      "cell_type": "markdown",
      "source": [
        "## Working with `googledrive` and `googlesheets4` ⚡"
      ],
      "metadata": {
        "id": "bfHmtqjrZd54"
      }
    },
    {
      "cell_type": "code",
      "source": [
        "library(googledrive)\n",
        "library(googlesheets4)\n",
        "\n",
        "#get Google sheet dribble metadata\n",
        "  mysheet.dribble <- drive_get(\"210928 IR Reg Drive Import\")\n",
        "  1\n",
        "  as_sheets_id(irregdrivecopy.dribble)\n",
        "  1\n",
        "  mysheet.dribble\n",
        "\n",
        "#make tibble with main sheet data\n",
        "  reg.drive.tib <- read_sheet(mysheet.dribble, 1)"
      ],
      "metadata": {
        "id": "0oO-YtQwZT5q"
      },
      "execution_count": null,
      "outputs": []
    },
    {
      "cell_type": "markdown",
      "source": [
        "## The Current Environment 🧹"
      ],
      "metadata": {
        "id": "vSCFLZ2tU8BK"
      }
    },
    {
      "cell_type": "markdown",
      "source": [
        "To print all variables in the current environment, we can use the `ls()` function."
      ],
      "metadata": {
        "id": "3UjmxEIEoGiE"
      }
    },
    {
      "cell_type": "code",
      "source": [
        "ls()"
      ],
      "metadata": {
        "colab": {
          "base_uri": "https://localhost:8080/",
          "height": 34
        },
        "id": "vXdsPnyooMle",
        "outputId": "9f38404a-8384-4573-bcd0-475792b0ff2d"
      },
      "execution_count": null,
      "outputs": [
        {
          "output_type": "display_data",
          "data": {
            "text/plain": [
              " [1] \"a\"            \"b\"            \"c\"            \"column.names\" \"d\"           \n",
              " [6] \"e\"            \"f\"            \"ip\"           \"l\"            \"matrix.names\"\n",
              "[11] \"message\"      \"mydata\"       \"now\"          \"result\"       \"row.names\"   \n",
              "[16] \"today\"        \"vector1\"      \"vector2\"      \"y\"            \"z\"           "
            ],
            "text/latex": "\\begin{enumerate*}\n\\item 'a'\n\\item 'b'\n\\item 'c'\n\\item 'column.names'\n\\item 'd'\n\\item 'e'\n\\item 'f'\n\\item 'ip'\n\\item 'l'\n\\item 'matrix.names'\n\\item 'message'\n\\item 'mydata'\n\\item 'now'\n\\item 'result'\n\\item 'row.names'\n\\item 'today'\n\\item 'vector1'\n\\item 'vector2'\n\\item 'y'\n\\item 'z'\n\\end{enumerate*}\n",
            "text/markdown": "1. 'a'\n2. 'b'\n3. 'c'\n4. 'column.names'\n5. 'd'\n6. 'e'\n7. 'f'\n8. 'ip'\n9. 'l'\n10. 'matrix.names'\n11. 'message'\n12. 'mydata'\n13. 'now'\n14. 'result'\n15. 'row.names'\n16. 'today'\n17. 'vector1'\n18. 'vector2'\n19. 'y'\n20. 'z'\n\n\n",
            "text/html": [
              "<style>\n",
              ".list-inline {list-style: none; margin:0; padding: 0}\n",
              ".list-inline>li {display: inline-block}\n",
              ".list-inline>li:not(:last-child)::after {content: \"\\00b7\"; padding: 0 .5ex}\n",
              "</style>\n",
              "<ol class=list-inline><li>'a'</li><li>'b'</li><li>'c'</li><li>'column.names'</li><li>'d'</li><li>'e'</li><li>'f'</li><li>'ip'</li><li>'l'</li><li>'matrix.names'</li><li>'message'</li><li>'mydata'</li><li>'now'</li><li>'result'</li><li>'row.names'</li><li>'today'</li><li>'vector1'</li><li>'vector2'</li><li>'y'</li><li>'z'</li></ol>\n"
            ]
          },
          "metadata": {}
        }
      ]
    },
    {
      "cell_type": "markdown",
      "source": [
        "This snippet below allows you to clean the current R environment by deleting all variables in-memory.\n",
        "\n",
        "> This is useful for debugging your code and keeping your environment tidy.\n",
        "\n",
        "The `rm` function allows you to remove objects from the current environment, the `list` argument can be passed a list of objects, in this case, we are passing the `ls` function with the `all` argument set to `T` or `TRUE`."
      ],
      "metadata": {
        "id": "pcy-lx94Viiu"
      }
    },
    {
      "cell_type": "code",
      "source": [
        "# This function cleans your environment\n",
        "# don't run this cell in Colab, it usually crashes your runtime\n",
        "# you can copy and paste into RStudio and try it out\n",
        "rm(list=ls(all=T))"
      ],
      "metadata": {
        "id": "_4WambSYVcAm"
      },
      "execution_count": null,
      "outputs": []
    },
    {
      "cell_type": "markdown",
      "source": [
        "# Additional Resources"
      ],
      "metadata": {
        "id": "GPSAXklJtYrJ"
      }
    },
    {
      "cell_type": "markdown",
      "source": [
        "Below are just a few additional resources you may find useful when you have questions or need practice."
      ],
      "metadata": {
        "id": "20Vjtn3G5dZo"
      }
    },
    {
      "cell_type": "markdown",
      "source": [
        "*   [Stack Overflow](https://stackoverflow.com/): is a Q/A board where you can ask coding questions and get answers from experts. Most questions I've asked are answered same day. Make sure to tag your questions with `R` and the packages in question.\n",
        "> *Stack Overflow is public so be sure not to post any sensitive data.\n",
        "*   [GitHub](https://github.com/) is a code repository for using `git`. You can backup your code and enforce version control. I recommend you setup an account and learn how to use it. We do not currently use GitHub as a department, but would like to in the future.\n",
        "> *Same goes for GitHub, make your repositories private and don't push anything sensitive.\n",
        "*   [DataCamp](https://www.datacamp.com/) is an interactive learning platform that focuses on coding, Data Analytics, and Data Science. You can try it for free but the membership is $25/month. I recommend just because I've used it extensively. There are free alternatives like [Free Code Camp](https://www.freecodecamp.org/learn/data-analysis-with-python/), but I haven't used it much."
      ],
      "metadata": {
        "id": "ZzOqP91SlTDi"
      }
    },
    {
      "cell_type": "markdown",
      "source": [
        "## Package Documentation\n",
        "\n",
        "Various documentation by package:\n",
        "* [tidyverse](https://www.tidyverse.org/packages/#import): package overview\n",
        "* [dplyr](https://dplyr.tidyverse.org/reference/index.html): API reference\n",
        "* [ggplot2](https://ggplot2.tidyverse.org/reference/index.html): API reference\n",
        "* [readr](https://readr.tidyverse.org/reference/index.html): API reference"
      ],
      "metadata": {
        "id": "_kA7Fx5AvU0-"
      }
    },
    {
      "cell_type": "markdown",
      "source": [
        "## More useful functions\n",
        "```\n",
        "length(object) # number of elements or components\n",
        "str(object)    # structure of an object\n",
        "class(object)  # class or type of an object\n",
        "names(object)  # names\n",
        "\n",
        "c(object,object,...)       # combine objects into a vector\n",
        "cbind(object, object, ...) # combine objects as columns\n",
        "rbind(object, object, ...) # combine objects as rows\n",
        "\n",
        "object     # prints the object\n",
        "\n",
        "ls()       # list current objects\n",
        "rm(object) # delete an object\n",
        "\n",
        "newobject <- edit(object) # edit copy and save as newobject\n",
        "fix(object)               # edit in place\n",
        "\n",
        "```"
      ],
      "metadata": {
        "id": "UXdbfku1CC3n"
      }
    }
  ]
}